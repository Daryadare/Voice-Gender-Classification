{
 "cells": [
  {
   "cell_type": "code",
   "execution_count": 12,
   "id": "initial_id",
   "metadata": {
    "collapsed": true,
    "ExecuteTime": {
     "end_time": "2023-08-31T14:32:43.849080Z",
     "start_time": "2023-08-31T14:32:43.817458200Z"
    }
   },
   "outputs": [],
   "source": [
    "import os\n",
    "import csv\n",
    "from itertools import zip_longest"
   ]
  },
  {
   "cell_type": "markdown",
   "source": [
    "### Get audio files from folder, split them into train-val-test sets and write to different .csv spreadsheets with voice labels:\n",
    "* 0 = male\n",
    "* 1 = female"
   ],
   "metadata": {
    "collapsed": false
   },
   "id": "9af5c2754493d9b4"
  },
  {
   "cell_type": "code",
   "execution_count": 21,
   "outputs": [],
   "source": [
    "def get_split(root):\n",
    "\n",
    "    content = os.listdir(root)\n",
    "    path_content = [el for el in content if el.endswith('.wav')]\n",
    "\n",
    "    content_length = len(path_content)\n",
    "    path_content_train = [content[el] for el in range(0, int(content_length*0.6))]\n",
    "    path_content_val = [content[el] for el in range(int(content_length*0.6),\n",
    "                                                           int(content_length*0.8))]\n",
    "    path_content_test = [content[el] for el in range(int(content_length*0.8),\n",
    "                                                            content_length)]\n",
    "\n",
    "    assert content_length == len(path_content_train)+len(path_content_val)+len(path_content_test), \\\n",
    "        'Something is missing...'\n",
    "\n",
    "    return path_content_train, path_content_val, path_content_test"
   ],
   "metadata": {
    "collapsed": false,
    "ExecuteTime": {
     "end_time": "2023-08-31T15:42:37.910830700Z",
     "start_time": "2023-08-31T15:42:37.879564900Z"
    }
   },
   "id": "a0803bd82a7722cd"
  },
  {
   "cell_type": "code",
   "execution_count": 22,
   "outputs": [],
   "source": [
    "def set_csv(data, name, data_name, header):\n",
    "\n",
    "    with open(name+data_name, 'w', newline='') as f:\n",
    "        writer = csv.writer(f)\n",
    "        writer.writerow(header)\n",
    "        writer.writerows(data)\n",
    "        f.close()"
   ],
   "metadata": {
    "collapsed": false,
    "ExecuteTime": {
     "end_time": "2023-08-31T15:42:38.447508100Z",
     "start_time": "2023-08-31T15:42:38.416228700Z"
    }
   },
   "id": "f78c45b45bff9ec6"
  },
  {
   "cell_type": "code",
   "execution_count": 23,
   "outputs": [],
   "source": [
    "def get_csv(root, name, gender):\n",
    "    \n",
    "    train, val, test = get_split(root)\n",
    "    \n",
    "    train_len = len(train)\n",
    "    val_len = len(val)\n",
    "    test_len = len(test)\n",
    "\n",
    "    header = ['sound.files', 'selec', 'start', 'end', 'gender']\n",
    "    train_name = 'TrainR.csv'\n",
    "    val_name = 'ValR.csv'\n",
    "    test_name = 'TestR.csv'\n",
    "\n",
    "    data_train = [train, [0]*train_len, [0]*train_len, [3]*train_len, [gender]*train_len]\n",
    "    train_items = zip_longest(*data_train, fillvalue='')\n",
    "\n",
    "    data_val = [val, [0]*val_len, [0]*val_len, [3]*val_len, [gender]*val_len]\n",
    "    val_items = zip_longest(*data_val, fillvalue='')\n",
    "\n",
    "    data_test = [test, [0]*test_len, [0]*test_len, [3]*test_len, [gender]*test_len]\n",
    "    test_items = zip_longest(*data_test, fillvalue='')\n",
    "\n",
    "    set_csv(train_items, name, train_name, header)\n",
    "    set_csv(val_items, name, val_name, header)\n",
    "    set_csv(test_items, name, test_name, header)\n"
   ],
   "metadata": {
    "collapsed": false,
    "ExecuteTime": {
     "end_time": "2023-08-31T15:42:38.872486Z",
     "start_time": "2023-08-31T15:42:38.825602800Z"
    }
   },
   "id": "278d0c88332b5b90"
  },
  {
   "cell_type": "code",
   "execution_count": 25,
   "outputs": [],
   "source": [
    "get_csv('./female/', '1Female', 1)"
   ],
   "metadata": {
    "collapsed": false,
    "ExecuteTime": {
     "end_time": "2023-08-31T15:42:50.236499Z",
     "start_time": "2023-08-31T15:42:50.189622600Z"
    }
   },
   "id": "e586e341e5d13fb6"
  },
  {
   "cell_type": "code",
   "execution_count": 26,
   "outputs": [],
   "source": [
    "get_csv('./male/', '0Male', 0)"
   ],
   "metadata": {
    "collapsed": false,
    "ExecuteTime": {
     "end_time": "2023-08-31T15:42:51.060587500Z",
     "start_time": "2023-08-31T15:42:50.998085600Z"
    }
   },
   "id": "22a4280a0b0b64ed"
  },
  {
   "cell_type": "code",
   "execution_count": null,
   "outputs": [],
   "source": [],
   "metadata": {
    "collapsed": false
   },
   "id": "6d043cbe8e48589a"
  }
 ],
 "metadata": {
  "kernelspec": {
   "display_name": "Python 3",
   "language": "python",
   "name": "python3"
  },
  "language_info": {
   "codemirror_mode": {
    "name": "ipython",
    "version": 2
   },
   "file_extension": ".py",
   "mimetype": "text/x-python",
   "name": "python",
   "nbconvert_exporter": "python",
   "pygments_lexer": "ipython2",
   "version": "2.7.6"
  }
 },
 "nbformat": 4,
 "nbformat_minor": 5
}
