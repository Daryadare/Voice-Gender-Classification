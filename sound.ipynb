{
 "cells": [
  {
   "cell_type": "code",
   "execution_count": 1,
   "id": "initial_id",
   "metadata": {
    "collapsed": true,
    "ExecuteTime": {
     "end_time": "2023-08-28T13:14:06.583470900Z",
     "start_time": "2023-08-28T13:14:06.570802500Z"
    }
   },
   "outputs": [],
   "source": [
    "import os\n",
    "os.environ[\"R_HOME\"] = r\"C:\\Program Files\\R\\R-4.3.1\"\n",
    "os.environ[\"PATH\"] = r\"C:\\Program Files\\R\\R-4.3.1\\bin\\x64\" + \";\" + os.environ[\"PATH\"]"
   ]
  },
  {
   "cell_type": "code",
   "execution_count": 6,
   "outputs": [],
   "source": [
    "import pandas as pd\n",
    "from specan3 import funcR\n",
    "\n",
    "from rpy2.robjects.packages import STAP\n",
    "from rpy2.robjects import pandas2ri"
   ],
   "metadata": {
    "collapsed": false,
    "ExecuteTime": {
     "end_time": "2023-08-28T13:15:32.840400900Z",
     "start_time": "2023-08-28T13:15:32.824705Z"
    }
   },
   "id": "a6cb40c8c419d6d8"
  },
  {
   "cell_type": "code",
   "execution_count": 7,
   "outputs": [],
   "source": [
    "pandas2ri.activate()"
   ],
   "metadata": {
    "collapsed": false,
    "ExecuteTime": {
     "end_time": "2023-08-28T13:15:33.433734Z",
     "start_time": "2023-08-28T13:15:33.418109400Z"
    }
   },
   "id": "511ba61e4ef4928"
  },
  {
   "cell_type": "code",
   "execution_count": 8,
   "outputs": [],
   "source": [
    "audiocsv = pd.read_csv('./AudioDataR2.csv')\n",
    "# audiocsv\n",
    "audiorpy2 = pandas2ri.py2rpy(audiocsv)\n",
    "# audiorpy2"
   ],
   "metadata": {
    "collapsed": false,
    "ExecuteTime": {
     "end_time": "2023-08-28T13:15:33.797981200Z",
     "start_time": "2023-08-28T13:15:33.750799700Z"
    }
   },
   "id": "e92dd366e4881321"
  },
  {
   "cell_type": "code",
   "execution_count": 9,
   "outputs": [
    {
     "name": "stdout",
     "output_type": "stream",
     "text": [
      "  0 0 0 0 0 0 0 0 0 0 0 0 0 0 0 0 0 0 0 0 0 0 0 0 0 0 0 0 0 3 3 3 3 3 3 3 3 3 3 3 3 3 3 3 3 3 3 3 3 3 3 3 3 3 3 3 3 3 3 trim_audio1.wav trim_audio10.wav trim_audio11.wav trim_audio12.wav trim_audio13.wav trim_audio14.wav trim_audio15.wav trim_audio16.wav trim_audio17.wav trim_audio18.wav trim_audio19.wav trim_audio2.wav trim_audio20.wav trim_audio21.wav trim_audio22.wav trim_audio23.wav trim_audio24.wav trim_audio25.wav trim_audio26.wav trim_audio27.wav trim_audio28.wav trim_audio29.wav trim_audio3.wav trim_audio30.wav trim_audio4.wav trim_audio5.wav trim_audio6.wav trim_audio7.wav trim_audio8.wav trim_audio9.wav 0 0 0 0 0 0 0 0 0 0 0 0 0 0 0 0 0 0 0 0 0 0 0 0 0 0 0 0 0 0Measuring acoustic parameters: |                                                  | 0 % ~calculating   |++                                                | 3 % ~07s           |++++                                              | 7 % ~06s           |+++++                                             | 10% ~06s           |+++++++                                           | 13% ~05s           |+++++++++                                         | 17% ~05s           |++++++++++                                        | 20% ~05s           |++++++++++++                                      | 23% ~05s           |++++++++++++++                                    | 27% ~04s           |+++++++++++++++                                   | 30% ~04s           |+++++++++++++++++                                 | 33% ~04s           |+++++++++++++++++++                               | 37% ~04s           |++++++++++++++++++++                              | 40% ~04s           |++++++++++++++++++++++                            | 43% ~03s           |++++++++++++++++++++++++                          | 47% ~03s           |+++++++++++++++++++++++++                         | 50% ~03s           |+++++++++++++++++++++++++++                       | 53% ~03s           |+++++++++++++++++++++++++++++                     | 57% ~03s           |++++++++++++++++++++++++++++++                    | 60% ~02s           |++++++++++++++++++++++++++++++++                  | 63% ~02s           |++++++++++++++++++++++++++++++++++                | 67% ~02s           |+++++++++++++++++++++++++++++++++++               | 70% ~02s           |+++++++++++++++++++++++++++++++++++++             | 73% ~02s           |+++++++++++++++++++++++++++++++++++++++           | 77% ~01s           |++++++++++++++++++++++++++++++++++++++++          | 80% ~01s           |++++++++++++++++++++++++++++++++++++++++++        | 83% ~01s           |++++++++++++++++++++++++++++++++++++++++++++      | 87% ~01s           |+++++++++++++++++++++++++++++++++++++++++++++     | 90% ~01s           |+++++++++++++++++++++++++++++++++++++++++++++++   | 93% ~00s           |+++++++++++++++++++++++++++++++++++++++++++++++++ | 97% ~00s           |++++++++++++++++++++++++++++++++++++++++++++++++++| 100% elapsed=06s  \n"
     ]
    },
    {
     "data": {
      "text/plain": "<rpy2.robjects.vectors.DataFrame object at 0x00000178739206C0> [RTYPES.VECSXP]\nR classes: ('data.frame',)\n[StrSexpVe..., StrSexpVe..., FloatSexp..., FloatSexp..., ..., FloatSexp..., FloatSexp..., FloatSexp..., FloatSexp...]\n  sound.files: <class 'numpy.ndarray'>\n  array(['trim_audio1.wav', 'trim_audio10.wav', 'trim_audio11.wav',\n       'trim_audio12.wav', 'trim_audio13.wav', 'trim_audio14.wav',\n       'trim_audio15.wav', 'trim_audio16.wav', 'trim_audio17.wav',\n       'trim_audio18.wav', 'trim_audio19.wav', 'trim_audio2.wav',\n       'trim_audio20.wav', 'trim_audio21.wav', 'trim_audio22.wav',\n       'trim_audio23.wav', 'trim_audio24.wav', 'trim_audio25.wav',\n       'trim_audio26.wav', 'trim_audio27.wav', 'trim_audio28.wav',\n       'trim_audio29.wav', 'trim_audio3.wav', 'trim_audio30.wav',\n       'trim_audio4.wav', 'trim_audio5.wav', 'trim_audio6.wav',\n       'trim_audio7.wav', 'trim_audio8.wav', 'trim_audio9.wav'],\n      dtype='<U16')\n  selec: <class 'numpy.ndarray'>\n  array(['0', '0', '0', '0', '0', '0', '0', '0', '0', '0', '0', '0', '0',\n       '0', '0', '0', '0', '0', '0', '0', '0', '0', '0', '0', '0', '0',\n       '0', '0', '0', '0'], dtype='<U1')\n  duration: <class 'numpy.ndarray'>\n  array([3., 3., 3., 3., 3., 3., 3., 3., 3., 3., 3., 3., 3., 3., 3., 3., 3.,\n       3., 3., 3., 3., 3., 3., 3., 3., 3., 3., 3., 3., 3.])\n  meanfreq: <class 'numpy.ndarray'>\n  array([0.17826646, 0.16473869, 0.16918573, 0.16657434, 0.15329035,\n       0.18457768, 0.17389296, 0.16695156, 0.17256824, 0.20408683,\n       0.15396981, 0.18232901, 0.1586398 , 0.14841587, 0.15135881,\n       0.18606196, 0.1725188 , 0.16059275, 0.17831398, 0.17492466,\n       0.17037068, 0.17369058, 0.16780329, 0.18779762, 0.17612534,\n       0.1932762 , 0.16740111, 0.16812908, 0.15761159, 0.16503383])\n...\n  median: <class 'numpy.ndarray'>\n  array([0.0546875, 0.0546875, 0.0546875, 0.       , 0.       , 0.09375  ,\n       0.0625   , 0.       , 0.0390625, 0.0625   , 0.       , 0.046875 ,\n       0.0703125, 0.       , 0.046875 , 0.0625   , 0.       , 0.0390625,\n       0.0390625, 0.046875 , 0.046875 , 0.046875 , 0.0234375, 0.078125 ,\n       0.0390625, 0.0546875, 0.0546875, 0.       , 0.       , 0.046875 ])\n  Q25: <class 'numpy.ndarray'>\n  array([4.9453125, 0.578125 , 1.8125   , 2.140625 , 0.734375 , 2.890625 ,\n       5.125    , 4.3828125, 0.84375  , 5.234375 , 6.578125 , 4.9140625,\n       0.5625   , 0.9296875, 4.59375  , 0.7421875, 4.21875  , 0.8203125,\n       4.6328125, 4.9921875, 0.609375 , 5.5234375, 4.       , 1.203125 ,\n       4.5234375, 4.828125 , 5.0859375, 5.4609375, 4.484375 , 4.5625   ])\n  Q75: <class 'numpy.ndarray'>\n  array([4.890625 , 0.5234375, 1.7578125, 2.140625 , 0.734375 , 2.796875 ,\n       5.0625   , 4.3828125, 0.8046875, 5.171875 , 6.578125 , 4.8671875,\n       0.4921875, 0.9296875, 4.546875 , 0.6796875, 4.21875  , 0.78125  ,\n       4.59375  , 4.9453125, 0.5625   , 5.4765625, 3.9765625, 1.125    ,\n       4.484375 , 4.7734375, 5.03125  , 5.4609375, 4.484375 , 4.515625 ])\n  IQR: <class 'numpy.ndarray'>\n  array([0.13121862, 0.23677069, 0.18020202, 0.24553933, 0.23404255,\n       0.12188928, 0.21296296, 0.14146816, 0.32568402, 0.10796629,\n       0.1084539 , 0.19779659, 0.28659612, 0.25095493, 0.09381443,\n       0.22988506, 0.14276094, 0.28136364, 0.13783609, 0.11884245,\n       0.27588384, 0.12559979, 0.12002143, 0.20069444, 0.14642065,\n       0.0685761 , 0.13819876, 0.20509819, 0.14119417, 0.10105379])",
      "text/html": "\n        <span>R/rpy2 DataFrame (30 x 24)</span>\n        <table>\n          <thead>\n            <tr>\n              \n              <th>sound.files</th>\n              \n              <th>selec</th>\n              \n              <th>duration</th>\n              \n              <th>...</th>\n              \n              <th>maxdom</th>\n              \n              <th>dfrange</th>\n              \n              <th>modindx</th>\n              \n            </tr>\n          </thead>\n          <tbody>\n          \n          <tr>\n            \n            <td>\n              ...\n            </td>\n            \n            <td>\n              ...\n            </td>\n            \n            <td>\n              ...\n            </td>\n            \n            <td>\n              ...\n            </td>\n            \n            <td>\n              ...\n            </td>\n            \n            <td>\n              ...\n            </td>\n            \n            <td>\n              ...\n            </td>\n            \n          </tr>\n          \n          </tbody>\n        </table>\n    "
     },
     "execution_count": 9,
     "metadata": {},
     "output_type": "execute_result"
    }
   ],
   "source": [
    "specan3 = STAP(funcR, \"specan3\")\n",
    "res = specan3.specan3(audiorpy2)\n",
    "res"
   ],
   "metadata": {
    "collapsed": false,
    "ExecuteTime": {
     "end_time": "2023-08-28T13:15:40.385464300Z",
     "start_time": "2023-08-28T13:15:34.309680300Z"
    }
   },
   "id": "199312f5d804abdf"
  },
  {
   "cell_type": "code",
   "execution_count": 11,
   "outputs": [
    {
     "data": {
      "text/plain": "         sound.files selec  duration  meanfreq        sd    median       Q25  \\\n1    trim_audio1.wav     0       3.0  0.178266  0.066980  0.191228  0.157855   \n2   trim_audio10.wav     0       3.0  0.164739  0.071201  0.176877  0.099118   \n3   trim_audio11.wav     0       3.0  0.169186  0.069028  0.177545  0.117473   \n4   trim_audio12.wav     0       3.0  0.166574  0.065228  0.186555  0.104458   \n5   trim_audio13.wav     0       3.0  0.153290  0.071134  0.154119  0.093220   \n6   trim_audio14.wav     0       3.0  0.184578  0.062401  0.199905  0.158856   \n7   trim_audio15.wav     0       3.0  0.173893  0.072854  0.196901  0.112467   \n8   trim_audio16.wav     0       3.0  0.166952  0.064057  0.174875  0.128486   \n9   trim_audio17.wav     0       3.0  0.172568  0.066804  0.196901  0.115805   \n10  trim_audio18.wav     0       3.0  0.204087  0.057690  0.222265  0.186889   \n11  trim_audio19.wav     0       3.0  0.153970  0.063912  0.167867  0.103456   \n12   trim_audio2.wav     0       3.0  0.182329  0.063005  0.202574  0.147509   \n13  trim_audio20.wav     0       3.0  0.158640  0.071117  0.164863  0.094779   \n14  trim_audio21.wav     0       3.0  0.148416  0.071373  0.164666  0.079611   \n15  trim_audio22.wav     0       3.0  0.151359  0.079150  0.167199  0.073087   \n16  trim_audio23.wav     0       3.0  0.186062  0.070486  0.210250  0.139499   \n17  trim_audio24.wav     0       3.0  0.172519  0.066105  0.181549  0.129154   \n18  trim_audio25.wav     0       3.0  0.160593  0.067663  0.166865  0.109130   \n19  trim_audio26.wav     0       3.0  0.178314  0.063468  0.201240  0.137497   \n20  trim_audio27.wav     0       3.0  0.174925  0.065705  0.183886  0.140167   \n21  trim_audio28.wav     0       3.0  0.170371  0.066528  0.190226  0.118808   \n22  trim_audio29.wav     0       3.0  0.173691  0.057370  0.189842  0.146634   \n23   trim_audio3.wav     0       3.0  0.167803  0.063581  0.180548  0.125816   \n24  trim_audio30.wav     0       3.0  0.187798  0.063410  0.214255  0.162193   \n25   trim_audio4.wav     0       3.0  0.176125  0.066375  0.197569  0.126150   \n26   trim_audio5.wav     0       3.0  0.193276  0.062748  0.217060  0.164326   \n27   trim_audio6.wav     0       3.0  0.167401  0.067144  0.175876  0.118474   \n28   trim_audio7.wav     0       3.0  0.168129  0.067186  0.189225  0.113802   \n29   trim_audio8.wav     0       3.0  0.157612  0.069326  0.161192  0.097449   \n30   trim_audio9.wav     0       3.0  0.165034  0.084607  0.171204  0.088439   \n\n         Q75       IQR      skew  ...  centroid  peakf   meanfun    minfun  \\\n1   0.228272  0.070417  2.409178  ...  0.178266    0.0  0.179330  0.048780   \n2   0.224934  0.125816  0.622851  ...  0.164739    0.0  0.128828  0.015656   \n3   0.226937  0.109464  1.832834  ...  0.169186    0.0  0.135699  0.015984   \n4   0.215924  0.111466  1.558992  ...  0.166574    0.0  0.156617  0.030948   \n5   0.220122  0.126902  0.600931  ...  0.153290    0.0  0.156471  0.017621   \n6   0.233611  0.074756  1.671806  ...  0.184578    0.0  0.147444  0.020434   \n7   0.236949  0.124482  2.343874  ...  0.173893    0.0  0.156805  0.016754   \n8   0.210584  0.082098  2.193164  ...  0.166952    0.0  0.138322  0.017857   \n9   0.222265  0.106460  2.492481  ...  0.172568    0.0  0.151419  0.015748   \n10  0.244625  0.057735  2.217979  ...  0.204087    0.0  0.156084  0.016667   \n11  0.193897  0.090441  2.044876  ...  0.153970    0.0  0.133793  0.016260   \n12  0.226603  0.079094  1.854204  ...  0.182329    0.0  0.158350  0.016546   \n13  0.213921  0.119142  1.296198  ...  0.158640    0.0  0.159833  0.028933   \n14  0.209235  0.129623  1.687420  ...  0.148416    0.0  0.167907  0.015764   \n15  0.216257  0.143170  1.168642  ...  0.151359    0.0  0.154401  0.017112   \n16  0.243957  0.104458  1.917043  ...  0.186062    0.0  0.156701  0.015842   \n17  0.218260  0.089106  1.538204  ...  0.172519    0.0  0.152105  0.020487   \n18  0.216591  0.107461  0.947508  ...  0.160593    0.0  0.137275  0.016754   \n19  0.218260  0.080763  2.919315  ...  0.178314    0.0  0.142819  0.017279   \n20  0.230942  0.090775  1.456651  ...  0.174925    0.0  0.154573  0.016719   \n21  0.216925  0.098117  2.039158  ...  0.170371    0.0  0.163440  0.017998   \n22  0.208214  0.061580  2.354818  ...  0.173691    0.0  0.161984  0.021080   \n23  0.208582  0.082765  2.278194  ...  0.167803    0.0  0.131017  0.016343   \n24  0.231609  0.069416  4.331092  ...  0.187798    0.0  0.127984  0.015920   \n25  0.226269  0.100119  2.057649  ...  0.176125    0.0  0.167315  0.019441   \n26  0.240875  0.076549  2.108484  ...  0.193276    0.0  0.153229  0.017817   \n27  0.221931  0.103456  1.216386  ...  0.167401    0.0  0.163845  0.022760   \n28  0.219595  0.105793  2.417623  ...  0.168129    0.0  0.151283  0.019778   \n29  0.212253  0.114803  0.433647  ...  0.157612    0.0  0.148956  0.021680   \n30  0.247962  0.159523  3.714148  ...  0.165034    0.0  0.162793  0.015764   \n\n      maxfun   meandom    mindom    maxdom   dfrange   modindx  \n1   0.266667  0.508878  0.054688  4.945312  4.890625  0.131219  \n2   0.262295  0.212636  0.054688  0.578125  0.523438  0.236771  \n3   0.271186  0.375679  0.054688  1.812500  1.757812  0.180202  \n4   0.275862  0.431920  0.000000  2.140625  2.140625  0.245539  \n5   0.266667  0.210938  0.000000  0.734375  0.734375  0.234043  \n6   0.266667  0.355299  0.093750  2.890625  2.796875  0.121889  \n7   0.258065  0.674592  0.062500  5.125000  5.062500  0.212963  \n8   0.275862  0.541780  0.000000  4.382812  4.382812  0.141468  \n9   0.271186  0.296196  0.039062  0.843750  0.804688  0.325684  \n10  0.246154  0.595238  0.062500  5.234375  5.171875  0.107966  \n11  0.275862  0.538383  0.000000  6.578125  6.578125  0.108454  \n12  0.253968  0.661345  0.046875  4.914062  4.867188  0.197797  \n13  0.271186  0.276562  0.070312  0.562500  0.492188  0.286596  \n14  0.271186  0.283288  0.000000  0.929688  0.929688  0.250955  \n15  0.266667  0.439631  0.046875  4.593750  4.546875  0.093814  \n16  0.258065  0.259511  0.062500  0.742188  0.679688  0.229885  \n17  0.271186  0.493207  0.000000  4.218750  4.218750  0.142761  \n18  0.258065  0.264606  0.039062  0.820312  0.781250  0.281364  \n19  0.271186  0.487216  0.039062  4.632812  4.593750  0.137836  \n20  0.246154  0.466372  0.046875  4.992188  4.945312  0.118842  \n21  0.222222  0.210938  0.046875  0.609375  0.562500  0.275884  \n22  0.238806  0.523438  0.046875  5.523438  5.476562  0.125600  \n23  0.253968  0.359375  0.023438  4.000000  3.976562  0.120021  \n24  0.238806  0.265270  0.078125  1.203125  1.125000  0.200694  \n25  0.271186  0.505774  0.039062  4.523438  4.484375  0.146421  \n26  0.253968  0.403054  0.054688  4.828125  4.773438  0.068576  \n27  0.275862  0.576349  0.054688  5.085938  5.031250  0.138199  \n28  0.253968  0.925951  0.000000  5.460938  5.460938  0.205098  \n29  0.271186  0.441576  0.000000  4.484375  4.484375  0.141194  \n30  0.271186  0.424932  0.046875  4.562500  4.515625  0.101054  \n\n[30 rows x 24 columns]",
      "text/html": "<div>\n<style scoped>\n    .dataframe tbody tr th:only-of-type {\n        vertical-align: middle;\n    }\n\n    .dataframe tbody tr th {\n        vertical-align: top;\n    }\n\n    .dataframe thead th {\n        text-align: right;\n    }\n</style>\n<table border=\"1\" class=\"dataframe\">\n  <thead>\n    <tr style=\"text-align: right;\">\n      <th></th>\n      <th>sound.files</th>\n      <th>selec</th>\n      <th>duration</th>\n      <th>meanfreq</th>\n      <th>sd</th>\n      <th>median</th>\n      <th>Q25</th>\n      <th>Q75</th>\n      <th>IQR</th>\n      <th>skew</th>\n      <th>...</th>\n      <th>centroid</th>\n      <th>peakf</th>\n      <th>meanfun</th>\n      <th>minfun</th>\n      <th>maxfun</th>\n      <th>meandom</th>\n      <th>mindom</th>\n      <th>maxdom</th>\n      <th>dfrange</th>\n      <th>modindx</th>\n    </tr>\n  </thead>\n  <tbody>\n    <tr>\n      <th>1</th>\n      <td>trim_audio1.wav</td>\n      <td>0</td>\n      <td>3.0</td>\n      <td>0.178266</td>\n      <td>0.066980</td>\n      <td>0.191228</td>\n      <td>0.157855</td>\n      <td>0.228272</td>\n      <td>0.070417</td>\n      <td>2.409178</td>\n      <td>...</td>\n      <td>0.178266</td>\n      <td>0.0</td>\n      <td>0.179330</td>\n      <td>0.048780</td>\n      <td>0.266667</td>\n      <td>0.508878</td>\n      <td>0.054688</td>\n      <td>4.945312</td>\n      <td>4.890625</td>\n      <td>0.131219</td>\n    </tr>\n    <tr>\n      <th>2</th>\n      <td>trim_audio10.wav</td>\n      <td>0</td>\n      <td>3.0</td>\n      <td>0.164739</td>\n      <td>0.071201</td>\n      <td>0.176877</td>\n      <td>0.099118</td>\n      <td>0.224934</td>\n      <td>0.125816</td>\n      <td>0.622851</td>\n      <td>...</td>\n      <td>0.164739</td>\n      <td>0.0</td>\n      <td>0.128828</td>\n      <td>0.015656</td>\n      <td>0.262295</td>\n      <td>0.212636</td>\n      <td>0.054688</td>\n      <td>0.578125</td>\n      <td>0.523438</td>\n      <td>0.236771</td>\n    </tr>\n    <tr>\n      <th>3</th>\n      <td>trim_audio11.wav</td>\n      <td>0</td>\n      <td>3.0</td>\n      <td>0.169186</td>\n      <td>0.069028</td>\n      <td>0.177545</td>\n      <td>0.117473</td>\n      <td>0.226937</td>\n      <td>0.109464</td>\n      <td>1.832834</td>\n      <td>...</td>\n      <td>0.169186</td>\n      <td>0.0</td>\n      <td>0.135699</td>\n      <td>0.015984</td>\n      <td>0.271186</td>\n      <td>0.375679</td>\n      <td>0.054688</td>\n      <td>1.812500</td>\n      <td>1.757812</td>\n      <td>0.180202</td>\n    </tr>\n    <tr>\n      <th>4</th>\n      <td>trim_audio12.wav</td>\n      <td>0</td>\n      <td>3.0</td>\n      <td>0.166574</td>\n      <td>0.065228</td>\n      <td>0.186555</td>\n      <td>0.104458</td>\n      <td>0.215924</td>\n      <td>0.111466</td>\n      <td>1.558992</td>\n      <td>...</td>\n      <td>0.166574</td>\n      <td>0.0</td>\n      <td>0.156617</td>\n      <td>0.030948</td>\n      <td>0.275862</td>\n      <td>0.431920</td>\n      <td>0.000000</td>\n      <td>2.140625</td>\n      <td>2.140625</td>\n      <td>0.245539</td>\n    </tr>\n    <tr>\n      <th>5</th>\n      <td>trim_audio13.wav</td>\n      <td>0</td>\n      <td>3.0</td>\n      <td>0.153290</td>\n      <td>0.071134</td>\n      <td>0.154119</td>\n      <td>0.093220</td>\n      <td>0.220122</td>\n      <td>0.126902</td>\n      <td>0.600931</td>\n      <td>...</td>\n      <td>0.153290</td>\n      <td>0.0</td>\n      <td>0.156471</td>\n      <td>0.017621</td>\n      <td>0.266667</td>\n      <td>0.210938</td>\n      <td>0.000000</td>\n      <td>0.734375</td>\n      <td>0.734375</td>\n      <td>0.234043</td>\n    </tr>\n    <tr>\n      <th>6</th>\n      <td>trim_audio14.wav</td>\n      <td>0</td>\n      <td>3.0</td>\n      <td>0.184578</td>\n      <td>0.062401</td>\n      <td>0.199905</td>\n      <td>0.158856</td>\n      <td>0.233611</td>\n      <td>0.074756</td>\n      <td>1.671806</td>\n      <td>...</td>\n      <td>0.184578</td>\n      <td>0.0</td>\n      <td>0.147444</td>\n      <td>0.020434</td>\n      <td>0.266667</td>\n      <td>0.355299</td>\n      <td>0.093750</td>\n      <td>2.890625</td>\n      <td>2.796875</td>\n      <td>0.121889</td>\n    </tr>\n    <tr>\n      <th>7</th>\n      <td>trim_audio15.wav</td>\n      <td>0</td>\n      <td>3.0</td>\n      <td>0.173893</td>\n      <td>0.072854</td>\n      <td>0.196901</td>\n      <td>0.112467</td>\n      <td>0.236949</td>\n      <td>0.124482</td>\n      <td>2.343874</td>\n      <td>...</td>\n      <td>0.173893</td>\n      <td>0.0</td>\n      <td>0.156805</td>\n      <td>0.016754</td>\n      <td>0.258065</td>\n      <td>0.674592</td>\n      <td>0.062500</td>\n      <td>5.125000</td>\n      <td>5.062500</td>\n      <td>0.212963</td>\n    </tr>\n    <tr>\n      <th>8</th>\n      <td>trim_audio16.wav</td>\n      <td>0</td>\n      <td>3.0</td>\n      <td>0.166952</td>\n      <td>0.064057</td>\n      <td>0.174875</td>\n      <td>0.128486</td>\n      <td>0.210584</td>\n      <td>0.082098</td>\n      <td>2.193164</td>\n      <td>...</td>\n      <td>0.166952</td>\n      <td>0.0</td>\n      <td>0.138322</td>\n      <td>0.017857</td>\n      <td>0.275862</td>\n      <td>0.541780</td>\n      <td>0.000000</td>\n      <td>4.382812</td>\n      <td>4.382812</td>\n      <td>0.141468</td>\n    </tr>\n    <tr>\n      <th>9</th>\n      <td>trim_audio17.wav</td>\n      <td>0</td>\n      <td>3.0</td>\n      <td>0.172568</td>\n      <td>0.066804</td>\n      <td>0.196901</td>\n      <td>0.115805</td>\n      <td>0.222265</td>\n      <td>0.106460</td>\n      <td>2.492481</td>\n      <td>...</td>\n      <td>0.172568</td>\n      <td>0.0</td>\n      <td>0.151419</td>\n      <td>0.015748</td>\n      <td>0.271186</td>\n      <td>0.296196</td>\n      <td>0.039062</td>\n      <td>0.843750</td>\n      <td>0.804688</td>\n      <td>0.325684</td>\n    </tr>\n    <tr>\n      <th>10</th>\n      <td>trim_audio18.wav</td>\n      <td>0</td>\n      <td>3.0</td>\n      <td>0.204087</td>\n      <td>0.057690</td>\n      <td>0.222265</td>\n      <td>0.186889</td>\n      <td>0.244625</td>\n      <td>0.057735</td>\n      <td>2.217979</td>\n      <td>...</td>\n      <td>0.204087</td>\n      <td>0.0</td>\n      <td>0.156084</td>\n      <td>0.016667</td>\n      <td>0.246154</td>\n      <td>0.595238</td>\n      <td>0.062500</td>\n      <td>5.234375</td>\n      <td>5.171875</td>\n      <td>0.107966</td>\n    </tr>\n    <tr>\n      <th>11</th>\n      <td>trim_audio19.wav</td>\n      <td>0</td>\n      <td>3.0</td>\n      <td>0.153970</td>\n      <td>0.063912</td>\n      <td>0.167867</td>\n      <td>0.103456</td>\n      <td>0.193897</td>\n      <td>0.090441</td>\n      <td>2.044876</td>\n      <td>...</td>\n      <td>0.153970</td>\n      <td>0.0</td>\n      <td>0.133793</td>\n      <td>0.016260</td>\n      <td>0.275862</td>\n      <td>0.538383</td>\n      <td>0.000000</td>\n      <td>6.578125</td>\n      <td>6.578125</td>\n      <td>0.108454</td>\n    </tr>\n    <tr>\n      <th>12</th>\n      <td>trim_audio2.wav</td>\n      <td>0</td>\n      <td>3.0</td>\n      <td>0.182329</td>\n      <td>0.063005</td>\n      <td>0.202574</td>\n      <td>0.147509</td>\n      <td>0.226603</td>\n      <td>0.079094</td>\n      <td>1.854204</td>\n      <td>...</td>\n      <td>0.182329</td>\n      <td>0.0</td>\n      <td>0.158350</td>\n      <td>0.016546</td>\n      <td>0.253968</td>\n      <td>0.661345</td>\n      <td>0.046875</td>\n      <td>4.914062</td>\n      <td>4.867188</td>\n      <td>0.197797</td>\n    </tr>\n    <tr>\n      <th>13</th>\n      <td>trim_audio20.wav</td>\n      <td>0</td>\n      <td>3.0</td>\n      <td>0.158640</td>\n      <td>0.071117</td>\n      <td>0.164863</td>\n      <td>0.094779</td>\n      <td>0.213921</td>\n      <td>0.119142</td>\n      <td>1.296198</td>\n      <td>...</td>\n      <td>0.158640</td>\n      <td>0.0</td>\n      <td>0.159833</td>\n      <td>0.028933</td>\n      <td>0.271186</td>\n      <td>0.276562</td>\n      <td>0.070312</td>\n      <td>0.562500</td>\n      <td>0.492188</td>\n      <td>0.286596</td>\n    </tr>\n    <tr>\n      <th>14</th>\n      <td>trim_audio21.wav</td>\n      <td>0</td>\n      <td>3.0</td>\n      <td>0.148416</td>\n      <td>0.071373</td>\n      <td>0.164666</td>\n      <td>0.079611</td>\n      <td>0.209235</td>\n      <td>0.129623</td>\n      <td>1.687420</td>\n      <td>...</td>\n      <td>0.148416</td>\n      <td>0.0</td>\n      <td>0.167907</td>\n      <td>0.015764</td>\n      <td>0.271186</td>\n      <td>0.283288</td>\n      <td>0.000000</td>\n      <td>0.929688</td>\n      <td>0.929688</td>\n      <td>0.250955</td>\n    </tr>\n    <tr>\n      <th>15</th>\n      <td>trim_audio22.wav</td>\n      <td>0</td>\n      <td>3.0</td>\n      <td>0.151359</td>\n      <td>0.079150</td>\n      <td>0.167199</td>\n      <td>0.073087</td>\n      <td>0.216257</td>\n      <td>0.143170</td>\n      <td>1.168642</td>\n      <td>...</td>\n      <td>0.151359</td>\n      <td>0.0</td>\n      <td>0.154401</td>\n      <td>0.017112</td>\n      <td>0.266667</td>\n      <td>0.439631</td>\n      <td>0.046875</td>\n      <td>4.593750</td>\n      <td>4.546875</td>\n      <td>0.093814</td>\n    </tr>\n    <tr>\n      <th>16</th>\n      <td>trim_audio23.wav</td>\n      <td>0</td>\n      <td>3.0</td>\n      <td>0.186062</td>\n      <td>0.070486</td>\n      <td>0.210250</td>\n      <td>0.139499</td>\n      <td>0.243957</td>\n      <td>0.104458</td>\n      <td>1.917043</td>\n      <td>...</td>\n      <td>0.186062</td>\n      <td>0.0</td>\n      <td>0.156701</td>\n      <td>0.015842</td>\n      <td>0.258065</td>\n      <td>0.259511</td>\n      <td>0.062500</td>\n      <td>0.742188</td>\n      <td>0.679688</td>\n      <td>0.229885</td>\n    </tr>\n    <tr>\n      <th>17</th>\n      <td>trim_audio24.wav</td>\n      <td>0</td>\n      <td>3.0</td>\n      <td>0.172519</td>\n      <td>0.066105</td>\n      <td>0.181549</td>\n      <td>0.129154</td>\n      <td>0.218260</td>\n      <td>0.089106</td>\n      <td>1.538204</td>\n      <td>...</td>\n      <td>0.172519</td>\n      <td>0.0</td>\n      <td>0.152105</td>\n      <td>0.020487</td>\n      <td>0.271186</td>\n      <td>0.493207</td>\n      <td>0.000000</td>\n      <td>4.218750</td>\n      <td>4.218750</td>\n      <td>0.142761</td>\n    </tr>\n    <tr>\n      <th>18</th>\n      <td>trim_audio25.wav</td>\n      <td>0</td>\n      <td>3.0</td>\n      <td>0.160593</td>\n      <td>0.067663</td>\n      <td>0.166865</td>\n      <td>0.109130</td>\n      <td>0.216591</td>\n      <td>0.107461</td>\n      <td>0.947508</td>\n      <td>...</td>\n      <td>0.160593</td>\n      <td>0.0</td>\n      <td>0.137275</td>\n      <td>0.016754</td>\n      <td>0.258065</td>\n      <td>0.264606</td>\n      <td>0.039062</td>\n      <td>0.820312</td>\n      <td>0.781250</td>\n      <td>0.281364</td>\n    </tr>\n    <tr>\n      <th>19</th>\n      <td>trim_audio26.wav</td>\n      <td>0</td>\n      <td>3.0</td>\n      <td>0.178314</td>\n      <td>0.063468</td>\n      <td>0.201240</td>\n      <td>0.137497</td>\n      <td>0.218260</td>\n      <td>0.080763</td>\n      <td>2.919315</td>\n      <td>...</td>\n      <td>0.178314</td>\n      <td>0.0</td>\n      <td>0.142819</td>\n      <td>0.017279</td>\n      <td>0.271186</td>\n      <td>0.487216</td>\n      <td>0.039062</td>\n      <td>4.632812</td>\n      <td>4.593750</td>\n      <td>0.137836</td>\n    </tr>\n    <tr>\n      <th>20</th>\n      <td>trim_audio27.wav</td>\n      <td>0</td>\n      <td>3.0</td>\n      <td>0.174925</td>\n      <td>0.065705</td>\n      <td>0.183886</td>\n      <td>0.140167</td>\n      <td>0.230942</td>\n      <td>0.090775</td>\n      <td>1.456651</td>\n      <td>...</td>\n      <td>0.174925</td>\n      <td>0.0</td>\n      <td>0.154573</td>\n      <td>0.016719</td>\n      <td>0.246154</td>\n      <td>0.466372</td>\n      <td>0.046875</td>\n      <td>4.992188</td>\n      <td>4.945312</td>\n      <td>0.118842</td>\n    </tr>\n    <tr>\n      <th>21</th>\n      <td>trim_audio28.wav</td>\n      <td>0</td>\n      <td>3.0</td>\n      <td>0.170371</td>\n      <td>0.066528</td>\n      <td>0.190226</td>\n      <td>0.118808</td>\n      <td>0.216925</td>\n      <td>0.098117</td>\n      <td>2.039158</td>\n      <td>...</td>\n      <td>0.170371</td>\n      <td>0.0</td>\n      <td>0.163440</td>\n      <td>0.017998</td>\n      <td>0.222222</td>\n      <td>0.210938</td>\n      <td>0.046875</td>\n      <td>0.609375</td>\n      <td>0.562500</td>\n      <td>0.275884</td>\n    </tr>\n    <tr>\n      <th>22</th>\n      <td>trim_audio29.wav</td>\n      <td>0</td>\n      <td>3.0</td>\n      <td>0.173691</td>\n      <td>0.057370</td>\n      <td>0.189842</td>\n      <td>0.146634</td>\n      <td>0.208214</td>\n      <td>0.061580</td>\n      <td>2.354818</td>\n      <td>...</td>\n      <td>0.173691</td>\n      <td>0.0</td>\n      <td>0.161984</td>\n      <td>0.021080</td>\n      <td>0.238806</td>\n      <td>0.523438</td>\n      <td>0.046875</td>\n      <td>5.523438</td>\n      <td>5.476562</td>\n      <td>0.125600</td>\n    </tr>\n    <tr>\n      <th>23</th>\n      <td>trim_audio3.wav</td>\n      <td>0</td>\n      <td>3.0</td>\n      <td>0.167803</td>\n      <td>0.063581</td>\n      <td>0.180548</td>\n      <td>0.125816</td>\n      <td>0.208582</td>\n      <td>0.082765</td>\n      <td>2.278194</td>\n      <td>...</td>\n      <td>0.167803</td>\n      <td>0.0</td>\n      <td>0.131017</td>\n      <td>0.016343</td>\n      <td>0.253968</td>\n      <td>0.359375</td>\n      <td>0.023438</td>\n      <td>4.000000</td>\n      <td>3.976562</td>\n      <td>0.120021</td>\n    </tr>\n    <tr>\n      <th>24</th>\n      <td>trim_audio30.wav</td>\n      <td>0</td>\n      <td>3.0</td>\n      <td>0.187798</td>\n      <td>0.063410</td>\n      <td>0.214255</td>\n      <td>0.162193</td>\n      <td>0.231609</td>\n      <td>0.069416</td>\n      <td>4.331092</td>\n      <td>...</td>\n      <td>0.187798</td>\n      <td>0.0</td>\n      <td>0.127984</td>\n      <td>0.015920</td>\n      <td>0.238806</td>\n      <td>0.265270</td>\n      <td>0.078125</td>\n      <td>1.203125</td>\n      <td>1.125000</td>\n      <td>0.200694</td>\n    </tr>\n    <tr>\n      <th>25</th>\n      <td>trim_audio4.wav</td>\n      <td>0</td>\n      <td>3.0</td>\n      <td>0.176125</td>\n      <td>0.066375</td>\n      <td>0.197569</td>\n      <td>0.126150</td>\n      <td>0.226269</td>\n      <td>0.100119</td>\n      <td>2.057649</td>\n      <td>...</td>\n      <td>0.176125</td>\n      <td>0.0</td>\n      <td>0.167315</td>\n      <td>0.019441</td>\n      <td>0.271186</td>\n      <td>0.505774</td>\n      <td>0.039062</td>\n      <td>4.523438</td>\n      <td>4.484375</td>\n      <td>0.146421</td>\n    </tr>\n    <tr>\n      <th>26</th>\n      <td>trim_audio5.wav</td>\n      <td>0</td>\n      <td>3.0</td>\n      <td>0.193276</td>\n      <td>0.062748</td>\n      <td>0.217060</td>\n      <td>0.164326</td>\n      <td>0.240875</td>\n      <td>0.076549</td>\n      <td>2.108484</td>\n      <td>...</td>\n      <td>0.193276</td>\n      <td>0.0</td>\n      <td>0.153229</td>\n      <td>0.017817</td>\n      <td>0.253968</td>\n      <td>0.403054</td>\n      <td>0.054688</td>\n      <td>4.828125</td>\n      <td>4.773438</td>\n      <td>0.068576</td>\n    </tr>\n    <tr>\n      <th>27</th>\n      <td>trim_audio6.wav</td>\n      <td>0</td>\n      <td>3.0</td>\n      <td>0.167401</td>\n      <td>0.067144</td>\n      <td>0.175876</td>\n      <td>0.118474</td>\n      <td>0.221931</td>\n      <td>0.103456</td>\n      <td>1.216386</td>\n      <td>...</td>\n      <td>0.167401</td>\n      <td>0.0</td>\n      <td>0.163845</td>\n      <td>0.022760</td>\n      <td>0.275862</td>\n      <td>0.576349</td>\n      <td>0.054688</td>\n      <td>5.085938</td>\n      <td>5.031250</td>\n      <td>0.138199</td>\n    </tr>\n    <tr>\n      <th>28</th>\n      <td>trim_audio7.wav</td>\n      <td>0</td>\n      <td>3.0</td>\n      <td>0.168129</td>\n      <td>0.067186</td>\n      <td>0.189225</td>\n      <td>0.113802</td>\n      <td>0.219595</td>\n      <td>0.105793</td>\n      <td>2.417623</td>\n      <td>...</td>\n      <td>0.168129</td>\n      <td>0.0</td>\n      <td>0.151283</td>\n      <td>0.019778</td>\n      <td>0.253968</td>\n      <td>0.925951</td>\n      <td>0.000000</td>\n      <td>5.460938</td>\n      <td>5.460938</td>\n      <td>0.205098</td>\n    </tr>\n    <tr>\n      <th>29</th>\n      <td>trim_audio8.wav</td>\n      <td>0</td>\n      <td>3.0</td>\n      <td>0.157612</td>\n      <td>0.069326</td>\n      <td>0.161192</td>\n      <td>0.097449</td>\n      <td>0.212253</td>\n      <td>0.114803</td>\n      <td>0.433647</td>\n      <td>...</td>\n      <td>0.157612</td>\n      <td>0.0</td>\n      <td>0.148956</td>\n      <td>0.021680</td>\n      <td>0.271186</td>\n      <td>0.441576</td>\n      <td>0.000000</td>\n      <td>4.484375</td>\n      <td>4.484375</td>\n      <td>0.141194</td>\n    </tr>\n    <tr>\n      <th>30</th>\n      <td>trim_audio9.wav</td>\n      <td>0</td>\n      <td>3.0</td>\n      <td>0.165034</td>\n      <td>0.084607</td>\n      <td>0.171204</td>\n      <td>0.088439</td>\n      <td>0.247962</td>\n      <td>0.159523</td>\n      <td>3.714148</td>\n      <td>...</td>\n      <td>0.165034</td>\n      <td>0.0</td>\n      <td>0.162793</td>\n      <td>0.015764</td>\n      <td>0.271186</td>\n      <td>0.424932</td>\n      <td>0.046875</td>\n      <td>4.562500</td>\n      <td>4.515625</td>\n      <td>0.101054</td>\n    </tr>\n  </tbody>\n</table>\n<p>30 rows × 24 columns</p>\n</div>"
     },
     "execution_count": 11,
     "metadata": {},
     "output_type": "execute_result"
    }
   ],
   "source": [
    "res_df = pandas2ri.rpy2py(res)\n",
    "res_df"
   ],
   "metadata": {
    "collapsed": false,
    "ExecuteTime": {
     "end_time": "2023-08-28T13:29:55.402189900Z",
     "start_time": "2023-08-28T13:29:55.320814100Z"
    }
   },
   "id": "4e4a8a94cdeb6e96"
  },
  {
   "cell_type": "code",
   "execution_count": 12,
   "outputs": [
    {
     "data": {
      "text/plain": "Index(['sound.files', 'selec', 'duration', 'meanfreq', 'sd', 'median', 'Q25',\n       'Q75', 'IQR', 'skew', 'kurt', 'sp.ent', 'sfm', 'mode', 'centroid',\n       'peakf', 'meanfun', 'minfun', 'maxfun', 'meandom', 'mindom', 'maxdom',\n       'dfrange', 'modindx'],\n      dtype='object')"
     },
     "execution_count": 12,
     "metadata": {},
     "output_type": "execute_result"
    }
   ],
   "source": [
    "res_df.columns"
   ],
   "metadata": {
    "collapsed": false,
    "ExecuteTime": {
     "end_time": "2023-08-28T13:30:46.560319400Z",
     "start_time": "2023-08-28T13:30:46.460239400Z"
    }
   },
   "id": "bb4024ea31552ba5"
  },
  {
   "cell_type": "code",
   "execution_count": null,
   "outputs": [],
   "source": [],
   "metadata": {
    "collapsed": false
   },
   "id": "63e4692b452ecf00"
  }
 ],
 "metadata": {
  "kernelspec": {
   "display_name": "Python 3",
   "language": "python",
   "name": "python3"
  },
  "language_info": {
   "codemirror_mode": {
    "name": "ipython",
    "version": 2
   },
   "file_extension": ".py",
   "mimetype": "text/x-python",
   "name": "python",
   "nbconvert_exporter": "python",
   "pygments_lexer": "ipython2",
   "version": "2.7.6"
  }
 },
 "nbformat": 4,
 "nbformat_minor": 5
}
